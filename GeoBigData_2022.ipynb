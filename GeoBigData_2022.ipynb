{
  "cells": [
    {
      "cell_type": "markdown",
      "metadata": {
        "id": "view-in-github",
        "colab_type": "text"
      },
      "source": [
        "<a href=\"https://colab.research.google.com/github/abxda/geobigdata-inegi-colab/blob/main/GeoBigData_2022.ipynb\" target=\"_parent\"><img src=\"https://colab.research.google.com/assets/colab-badge.svg\" alt=\"Open In Colab\"/></a>"
      ]
    },
    {
      "cell_type": "markdown",
      "metadata": {
        "id": "IF-me0lgEpYi"
      },
      "source": [
        "Maquina Virtual"
      ]
    },
    {
      "cell_type": "code",
      "source": [
        "!lsb_release -a"
      ],
      "metadata": {
        "colab": {
          "base_uri": "https://localhost:8080/"
        },
        "id": "n74aZARs_tG1",
        "outputId": "e13d840a-ac61-4e55-bdcc-db7fd0e74fd2"
      },
      "execution_count": 1,
      "outputs": [
        {
          "output_type": "stream",
          "name": "stdout",
          "text": [
            "No LSB modules are available.\n",
            "Distributor ID:\tUbuntu\n",
            "Description:\tUbuntu 18.04.6 LTS\n",
            "Release:\t18.04\n",
            "Codename:\tbionic\n"
          ]
        }
      ]
    },
    {
      "cell_type": "code",
      "execution_count": 2,
      "metadata": {
        "colab": {
          "base_uri": "https://localhost:8080/"
        },
        "id": "EW24ah0ERe_k",
        "outputId": "70637823-165b-49af-ee72-0e4a518a7e0d"
      },
      "outputs": [
        {
          "output_type": "stream",
          "name": "stdout",
          "text": [
            "CPU(s):              2\n",
            "Thread(s) per core:  2\n",
            "Core(s) per socket:  1\n",
            "Socket(s):           1\n",
            "Model name:          Intel(R) Xeon(R) CPU @ 2.20GHz\n"
          ]
        }
      ],
      "source": [
        "!lscpu | grep -E '^Model name|^Thread|^Core|^Socket|^CPU\\('"
      ]
    },
    {
      "cell_type": "code",
      "source": [
        "!free -m -h"
      ],
      "metadata": {
        "colab": {
          "base_uri": "https://localhost:8080/"
        },
        "id": "eOUslny30IXN",
        "outputId": "849073f7-f07a-41e7-c047-33b53820c959"
      },
      "execution_count": null,
      "outputs": [
        {
          "output_type": "stream",
          "name": "stdout",
          "text": [
            "              total        used        free      shared  buff/cache   available\n",
            "Mem:            12G        859M          9G        1.2M        1.9G         11G\n",
            "Swap:            0B          0B          0B\n"
          ]
        }
      ]
    },
    {
      "cell_type": "code",
      "source": [
        "!df -h"
      ],
      "metadata": {
        "colab": {
          "base_uri": "https://localhost:8080/"
        },
        "id": "sEIZ9U-R0UI9",
        "outputId": "7640ce79-af7d-4c47-a1e8-0319b7a85a14"
      },
      "execution_count": null,
      "outputs": [
        {
          "output_type": "stream",
          "name": "stdout",
          "text": [
            "Filesystem      Size  Used Avail Use% Mounted on\n",
            "overlay         108G   39G   70G  36% /\n",
            "tmpfs            64M     0   64M   0% /dev\n",
            "shm             5.8G     0  5.8G   0% /dev/shm\n",
            "/dev/root       2.0G  1.1G  910M  54% /sbin/docker-init\n",
            "tmpfs           6.4G   40K  6.4G   1% /var/colab\n",
            "/dev/sda1        55G   40G   16G  72% /etc/hosts\n",
            "tmpfs           6.4G     0  6.4G   0% /proc/acpi\n",
            "tmpfs           6.4G     0  6.4G   0% /proc/scsi\n",
            "tmpfs           6.4G     0  6.4G   0% /sys/firmware\n",
            "drive           108G   42G   66G  39% /content/drive\n"
          ]
        }
      ]
    },
    {
      "cell_type": "code",
      "source": [
        "!lsblk -d -o name,rota"
      ],
      "metadata": {
        "colab": {
          "base_uri": "https://localhost:8080/"
        },
        "id": "ouYNz1s10aXr",
        "outputId": "b328364b-8357-4c9a-b492-910f73c71d89"
      },
      "execution_count": null,
      "outputs": [
        {
          "output_type": "stream",
          "name": "stdout",
          "text": [
            "NAME  ROTA\n",
            "loop0    0\n",
            "sda      0\n"
          ]
        }
      ]
    },
    {
      "cell_type": "code",
      "source": [],
      "metadata": {
        "id": "HVpStMpv0cXa"
      },
      "execution_count": 3,
      "outputs": []
    },
    {
      "cell_type": "markdown",
      "source": [
        "Instalación de Requerimientos"
      ],
      "metadata": {
        "id": "qM5X32-Q0dN1"
      }
    },
    {
      "cell_type": "code",
      "execution_count": 4,
      "metadata": {
        "id": "TrxTL-CnEvvR"
      },
      "outputs": [],
      "source": [
        "!apt-get install openjdk-11-jdk-headless -qq > /dev/null\n",
        "!wget -q https://archive.apache.org/dist/spark/spark-3.2.2/spark-3.2.2-bin-hadoop3.2.tgz\n",
        "!tar xf spark-3.2.2-bin-hadoop3.2.tgz\n",
        "!pip -q install findspark"
      ]
    },
    {
      "cell_type": "code",
      "execution_count": 5,
      "metadata": {
        "colab": {
          "base_uri": "https://localhost:8080/"
        },
        "id": "bDTbRe9mF4Jx",
        "outputId": "e9005786-06c5-4839-8e41-75d0a152a1ab"
      },
      "outputs": [
        {
          "output_type": "stream",
          "name": "stdout",
          "text": [
            "openjdk version \"11.0.16\" 2022-07-19\n",
            "OpenJDK Runtime Environment (build 11.0.16+8-post-Ubuntu-0ubuntu118.04)\n",
            "OpenJDK 64-Bit Server VM (build 11.0.16+8-post-Ubuntu-0ubuntu118.04, mixed mode, sharing)\n"
          ]
        }
      ],
      "source": [
        "! java -version"
      ]
    },
    {
      "cell_type": "code",
      "execution_count": 6,
      "metadata": {
        "id": "MlGo6CQiFHVP"
      },
      "outputs": [],
      "source": [
        "import os\n",
        "os.environ[\"JAVA_HOME\"] = \"/usr/lib/jvm/java-11-openjdk-amd64\"\n",
        "os.environ[\"SPARK_HOME\"] = \"/content/spark-3.2.2-bin-hadoop3.2\""
      ]
    },
    {
      "cell_type": "code",
      "execution_count": 7,
      "metadata": {
        "id": "WBP7STCmK-ru",
        "colab": {
          "base_uri": "https://localhost:8080/"
        },
        "outputId": "7a55bc6a-6732-4320-d4b8-3f089545a1e3"
      },
      "outputs": [
        {
          "output_type": "stream",
          "name": "stdout",
          "text": [
            "\u001b[K     |████████████████████████████████| 281.3 MB 38 kB/s \n",
            "\u001b[K     |████████████████████████████████| 199 kB 58.4 MB/s \n",
            "\u001b[?25h  Building wheel for pyspark (setup.py) ... \u001b[?25l\u001b[?25hdone\n"
          ]
        }
      ],
      "source": [
        "!pip -q install pyspark"
      ]
    },
    {
      "cell_type": "code",
      "execution_count": 8,
      "metadata": {
        "colab": {
          "base_uri": "https://localhost:8080/"
        },
        "id": "0zCM53AzFHi0",
        "outputId": "1a0b30b7-743d-40fc-f1cc-dd81bb61cd81"
      },
      "outputs": [
        {
          "output_type": "stream",
          "name": "stdout",
          "text": [
            "\u001b[K     |████████████████████████████████| 1.0 MB 5.2 MB/s \n",
            "\u001b[K     |████████████████████████████████| 1.0 MB 45.1 MB/s \n",
            "\u001b[K     |████████████████████████████████| 67 kB 3.8 MB/s \n",
            "\u001b[K     |████████████████████████████████| 6.3 MB 38.5 MB/s \n",
            "\u001b[K     |████████████████████████████████| 16.7 MB 662 kB/s \n",
            "\u001b[?25h"
          ]
        }
      ],
      "source": [
        "!pip -q install geopandas attrs shapely rtree apache-sedona[spark]"
      ]
    },
    {
      "cell_type": "markdown",
      "source": [
        "Descarga de Bases de Datos Listas para el Análisis"
      ],
      "metadata": {
        "id": "pm8U3jwS1sGN"
      }
    },
    {
      "cell_type": "code",
      "source": [
        "#Descarga de Bases de Datos SCINCE 2020 y DENUE Mayo 2022\n",
        "#DENUE: https://drive.google.com/file/d/1CbCm0n41uKHPi-L8bTag2G6RA71tdaM4/view?usp=sharing\n",
        "!gdown 1CbCm0n41uKHPi-L8bTag2G6RA71tdaM4\n",
        "#SCINCE:https://drive.google.com/file/d/134WppiiO8fdYOxD4yJI-ZX51YTwnVgLu/view?usp=sharing\n",
        "!gdown 134WppiiO8fdYOxD4yJI-ZX51YTwnVgLu"
      ],
      "metadata": {
        "colab": {
          "base_uri": "https://localhost:8080/"
        },
        "id": "pGImqYqXHX7q",
        "outputId": "6357f25e-5226-4dfb-c5bf-042c0e9a9f2b"
      },
      "execution_count": 3,
      "outputs": [
        {
          "output_type": "stream",
          "name": "stdout",
          "text": [
            "Downloading...\n",
            "From: https://drive.google.com/uc?id=1CbCm0n41uKHPi-L8bTag2G6RA71tdaM4\n",
            "To: /content/DENUE_Parquets.zip\n",
            "100% 486M/486M [00:02<00:00, 186MB/s]\n",
            "Downloading...\n",
            "From: https://drive.google.com/uc?id=134WppiiO8fdYOxD4yJI-ZX51YTwnVgLu\n",
            "To: /content/SCINCE_Parquets.zip\n",
            "100% 1.14G/1.14G [00:06<00:00, 183MB/s]\n"
          ]
        }
      ]
    },
    {
      "cell_type": "markdown",
      "metadata": {
        "id": "GLN2kRDjREcB"
      },
      "source": [
        "Descompactar los Datos"
      ]
    },
    {
      "cell_type": "code",
      "execution_count": 9,
      "metadata": {
        "colab": {
          "base_uri": "https://localhost:8080/"
        },
        "id": "oIZr5GwhRG1D",
        "outputId": "8e8a718e-7fd0-434e-9c76-bb286b7fd911"
      },
      "outputs": [
        {
          "output_type": "stream",
          "name": "stdout",
          "text": [
            "/content/DENUE_Parquets.zip  /content/SCINCE_Parquets.zip\n"
          ]
        }
      ],
      "source": [
        "!ls /content/*.zip"
      ]
    },
    {
      "cell_type": "code",
      "execution_count": 10,
      "metadata": {
        "id": "LhkTKoZcRgd9"
      },
      "outputs": [],
      "source": [
        "!unzip /content/DENUE_Parquets.zip -d /content/DENUE_Parquets/ &> /dev/null"
      ]
    },
    {
      "cell_type": "code",
      "execution_count": 11,
      "metadata": {
        "id": "-G2Y00INSQbC"
      },
      "outputs": [],
      "source": [
        "!unzip /content/SCINCE_Parquets.zip -d /content/SCINCE_Parquets/ &> /dev/null"
      ]
    },
    {
      "cell_type": "code",
      "source": [
        "!ls /content/DENUE_Parquets"
      ],
      "metadata": {
        "colab": {
          "base_uri": "https://localhost:8080/"
        },
        "id": "Aj4fL_pw1C1Q",
        "outputId": "acbc89af-2b76-4ec8-e55c-2730fff8e83c"
      },
      "execution_count": 12,
      "outputs": [
        {
          "output_type": "stream",
          "name": "stdout",
          "text": [
            "01.parquet  07.parquet\t13.parquet    18.parquet  24.parquet  30.parquet\n",
            "02.parquet  08.parquet\t14.parquet    19.parquet  25.parquet  31.parquet\n",
            "03.parquet  09.parquet\t15_1.parquet  20.parquet  26.parquet  32.parquet\n",
            "04.parquet  10.parquet\t15_2.parquet  21.parquet  27.parquet\n",
            "05.parquet  11.parquet\t16.parquet    22.parquet  28.parquet\n",
            "06.parquet  12.parquet\t17.parquet    23.parquet  29.parquet\n"
          ]
        }
      ]
    },
    {
      "cell_type": "code",
      "source": [],
      "metadata": {
        "id": "LUy85kqY1HAV"
      },
      "execution_count": null,
      "outputs": []
    },
    {
      "cell_type": "markdown",
      "source": [
        "Inicio de Apache Spark y Apache Sedona"
      ],
      "metadata": {
        "id": "6GvLgMXF1L3h"
      }
    },
    {
      "cell_type": "code",
      "execution_count": 13,
      "metadata": {
        "colab": {
          "base_uri": "https://localhost:8080/"
        },
        "id": "2RyhZF4HFf1J",
        "outputId": "9adf1d36-b28f-46b1-94d3-14fbf326cf52"
      },
      "outputs": [
        {
          "output_type": "execute_result",
          "data": {
            "text/plain": [
              "True"
            ]
          },
          "metadata": {},
          "execution_count": 13
        }
      ],
      "source": [
        "import findspark\n",
        "findspark.init()\n",
        "import shapely\n",
        "import pandas as pd \n",
        "import geopandas as gpd\n",
        "from pyspark.sql import SparkSession\n",
        "from pyspark import SparkContext\n",
        "from pyspark import SparkConf\n",
        "from sedona.register import SedonaRegistrator\n",
        "from sedona.utils import SedonaKryoRegistrator, KryoSerializer\n",
        "spark = SparkSession. \\\n",
        "builder. \\\n",
        "appName('GeoBigData'). \\\n",
        "config(\"spark.serializer\", KryoSerializer.getName). \\\n",
        "config(\"spark.executor.memory\", \"5g\"). \\\n",
        "config(\"spark.driver.memory\", \"10g\"). \\\n",
        "config('spark.driver.maxResultSize', '5g'). \\\n",
        "config(\"spark.kryo.registrator\", SedonaKryoRegistrator.getName). \\\n",
        "config('spark.jars.packages',\n",
        "           'org.apache.sedona:sedona-python-adapter-3.0_2.12:1.2.0-incubating,'\n",
        "           'org.datasyslab:geotools-wrapper:1.1.0-25.2'). \\\n",
        "getOrCreate()\n",
        "SedonaRegistrator.registerAll(spark)"
      ]
    },
    {
      "cell_type": "markdown",
      "metadata": {
        "id": "l_2ojrBdQHUz"
      },
      "source": [
        "Leer Datos"
      ]
    },
    {
      "cell_type": "code",
      "execution_count": 14,
      "metadata": {
        "colab": {
          "base_uri": "https://localhost:8080/"
        },
        "id": "ut387qQlaF-E",
        "outputId": "38692bc2-a5d7-4a6a-b7ca-e52690a6de86"
      },
      "outputs": [
        {
          "output_type": "stream",
          "name": "stdout",
          "text": [
            "root\n",
            " |-- CVEGEO: string (nullable = true)\n",
            " |-- ECO1_R: double (nullable = true)\n",
            " |-- EDU46_R: double (nullable = true)\n",
            " |-- VIV82_R: double (nullable = true)\n",
            " |-- VIV83_R: double (nullable = true)\n",
            " |-- VIV84_R: double (nullable = true)\n",
            " |-- geometry: geometry (nullable = true)\n",
            "\n",
            "+----------------+------+-------+-------+-------+-------+--------------------+\n",
            "|          CVEGEO|ECO1_R|EDU46_R|VIV82_R|VIV83_R|VIV84_R|            geometry|\n",
            "+----------------+------+-------+-------+-------+-------+--------------------+\n",
            "|0100100010017003|  75.8|    8.5|   54.5|    9.1|    9.1|POLYGON ((2473557...|\n",
            "|010010001006A012|  63.2|   94.1|   33.3|   77.8|   55.6|POLYGON ((2471329...|\n",
            "|0100100010106028|  79.2|   80.0|   -6.0|   70.0|   -6.0|POLYGON ((2472153...|\n",
            "|0100100010106034|  73.9|   57.9|   53.3|   40.0|   40.0|POLYGON ((2472128...|\n",
            "|0100100010106036|  82.3|   64.7|   18.8|   59.4|   31.3|POLYGON ((2472142...|\n",
            "|0100100010106041|  76.7|   67.9|   41.2|   58.8|   17.6|POLYGON ((2472138...|\n",
            "|0100100010163017|  79.1|   49.0|   53.7|   48.1|   46.3|POLYGON ((2476783...|\n",
            "|0100100010163018|  77.1|   31.4|   48.6|   37.8|   32.4|POLYGON ((2476734...|\n",
            "|0100100010163019|  80.3|   23.6|   50.0|   41.2|   29.4|POLYGON ((2476842...|\n",
            "|0100100010163031|  -8.0|   -8.0|   -8.0|   -8.0|   -8.0|POLYGON ((2476922...|\n",
            "|0100100010182033|  56.0|   90.0|   75.0|  100.0|   50.0|POLYGON ((2463744...|\n",
            "|0100100010229011|  -6.0|   -6.0|   -6.0|   -6.0|   -6.0|POLYGON ((2469545...|\n",
            "|0100100010233015|  84.2|   60.0|   63.6|   81.8|   27.3|POLYGON ((2467768...|\n",
            "|0100100010233020|  -8.0|   -8.0|   -8.0|   -8.0|   -8.0|POLYGON ((2467673...|\n",
            "|0100100010233045|  -8.0|   -8.0|   -8.0|   -8.0|   -8.0|POLYGON ((2468056...|\n",
            "|0100100010286008|  53.5|   58.5|   77.4|   41.9|   19.4|POLYGON ((2468024...|\n",
            "|0100100010286025|  49.4|   56.5|   61.3|   25.8|   16.1|POLYGON ((2467921...|\n",
            "|0100100010290031|  72.7|   73.7|   50.0|   50.0|   50.0|POLYGON ((2468560...|\n",
            "|0100100010303002|  52.6|   32.0|   54.5|   29.5|   22.7|POLYGON ((2469190...|\n",
            "|0100100010303003|  57.2|   24.6|   47.4|   21.1|   17.5|POLYGON ((2469236...|\n",
            "+----------------+------+-------+-------+-------+-------+--------------------+\n",
            "only showing top 20 rows\n",
            "\n"
          ]
        }
      ],
      "source": [
        "BD_MANZANAS = spark.read.parquet(f\"/content/SCINCE_Parquets/01_AGS.parquet\")\n",
        "BD_MANZANAS_EEVVV = BD_MANZANAS.select('CVEGEO', 'ECO1_R', 'EDU46_R', 'VIV82_R', 'VIV83_R', 'VIV84_R', 'geometry')\n",
        "BD_MANZANAS_EEVVV.cache()\n",
        "BD_MANZANAS_EEVVV.printSchema()\n",
        "BD_MANZANAS_EEVVV.show()"
      ]
    },
    {
      "cell_type": "code",
      "execution_count": 15,
      "metadata": {
        "id": "gPD2yRXja56L"
      },
      "outputs": [],
      "source": [
        "BD_MANZANAS_EEVVV.createOrReplaceTempView(\"manzanas\")"
      ]
    },
    {
      "cell_type": "code",
      "execution_count": 16,
      "metadata": {
        "colab": {
          "base_uri": "https://localhost:8080/"
        },
        "id": "q0cMVBuBa8rn",
        "outputId": "a53d0f1e-9569-4099-9e1e-efb645d2c0f9"
      },
      "outputs": [
        {
          "output_type": "stream",
          "name": "stdout",
          "text": [
            "+----------------+------+-------+-------+-------+-------+--------------------+\n",
            "|          CVEGEO|ECO1_R|EDU46_R|VIV82_R|VIV83_R|VIV84_R|            geometry|\n",
            "+----------------+------+-------+-------+-------+-------+--------------------+\n",
            "|0100100010017003|  75.8|    8.5|   54.5|    9.1|    9.1|POLYGON ((2473557...|\n",
            "|010010001006A012|  63.2|   94.1|   33.3|   77.8|   55.6|POLYGON ((2471329...|\n",
            "|0100100010106028|  79.2|   80.0|    0.0|   70.0|    0.0|POLYGON ((2472153...|\n",
            "|0100100010106034|  73.9|   57.9|   53.3|   40.0|   40.0|POLYGON ((2472128...|\n",
            "|0100100010106036|  82.3|   64.7|   18.8|   59.4|   31.3|POLYGON ((2472142...|\n",
            "|0100100010106041|  76.7|   67.9|   41.2|   58.8|   17.6|POLYGON ((2472138...|\n",
            "|0100100010163017|  79.1|   49.0|   53.7|   48.1|   46.3|POLYGON ((2476783...|\n",
            "|0100100010163018|  77.1|   31.4|   48.6|   37.8|   32.4|POLYGON ((2476734...|\n",
            "|0100100010163019|  80.3|   23.6|   50.0|   41.2|   29.4|POLYGON ((2476842...|\n",
            "|0100100010163031|   0.0|    0.0|    0.0|    0.0|    0.0|POLYGON ((2476922...|\n",
            "|0100100010182033|  56.0|   90.0|   75.0|  100.0|   50.0|POLYGON ((2463744...|\n",
            "|0100100010229011|   0.0|    0.0|    0.0|    0.0|    0.0|POLYGON ((2469545...|\n",
            "|0100100010233015|  84.2|   60.0|   63.6|   81.8|   27.3|POLYGON ((2467768...|\n",
            "|0100100010233020|   0.0|    0.0|    0.0|    0.0|    0.0|POLYGON ((2467673...|\n",
            "|0100100010233045|   0.0|    0.0|    0.0|    0.0|    0.0|POLYGON ((2468056...|\n",
            "|0100100010286008|  53.5|   58.5|   77.4|   41.9|   19.4|POLYGON ((2468024...|\n",
            "|0100100010286025|  49.4|   56.5|   61.3|   25.8|   16.1|POLYGON ((2467921...|\n",
            "|0100100010290031|  72.7|   73.7|   50.0|   50.0|   50.0|POLYGON ((2468560...|\n",
            "|0100100010303002|  52.6|   32.0|   54.5|   29.5|   22.7|POLYGON ((2469190...|\n",
            "|0100100010303003|  57.2|   24.6|   47.4|   21.1|   17.5|POLYGON ((2469236...|\n",
            "+----------------+------+-------+-------+-------+-------+--------------------+\n",
            "only showing top 20 rows\n",
            "\n"
          ]
        }
      ],
      "source": [
        "BD_MZA_EEVVV_CORREGIDO = spark.sql(\"\"\"select \n",
        "                                  CVEGEO,\n",
        "                                  if( (isnull(ECO1_R) or ECO1_R < 0 ), 0, ECO1_R) as ECO1_R, \n",
        "                                  if( (isnull(EDU46_R) or EDU46_R < 0 ), 0, EDU46_R) as EDU46_R,\n",
        "                                  if( (isnull(VIV82_R) or VIV82_R < 0 ), 0, VIV82_R) as VIV82_R,\n",
        "                                  if( (isnull(VIV83_R) or VIV83_R < 0 ), 0, VIV83_R) as VIV83_R,\n",
        "                                  if( (isnull(VIV84_R) or VIV84_R < 0 ), 0, VIV84_R) as VIV84_R,                                  \n",
        "                                  geometry\n",
        "                             from manzanas \"\"\")\n",
        "\n",
        "BD_MZA_EEVVV_CORREGIDO.cache()\n",
        "BD_MZA_EEVVV_CORREGIDO.show()"
      ]
    },
    {
      "cell_type": "code",
      "execution_count": 17,
      "metadata": {
        "colab": {
          "base_uri": "https://localhost:8080/"
        },
        "id": "6nj9t03kbPo2",
        "outputId": "14b2f2a5-69fa-47bd-eaf4-4c811f942002"
      },
      "outputs": [
        {
          "output_type": "stream",
          "name": "stdout",
          "text": [
            "+----------------+------+-------+-------+-------+-------+--------------------+--------------------+\n",
            "|          CVEGEO|ECO1_R|EDU46_R|VIV82_R|VIV83_R|VIV84_R|            geometry|            features|\n",
            "+----------------+------+-------+-------+-------+-------+--------------------+--------------------+\n",
            "|0100100010017003|  75.8|    8.5|   54.5|    9.1|    9.1|POLYGON ((2473557...|[75.8,8.5,54.5,9....|\n",
            "|010010001006A012|  63.2|   94.1|   33.3|   77.8|   55.6|POLYGON ((2471329...|[63.2,94.1,33.3,7...|\n",
            "|0100100010106028|  79.2|   80.0|    0.0|   70.0|    0.0|POLYGON ((2472153...|[79.2,80.0,0.0,70...|\n",
            "|0100100010106034|  73.9|   57.9|   53.3|   40.0|   40.0|POLYGON ((2472128...|[73.9,57.9,53.3,4...|\n",
            "|0100100010106036|  82.3|   64.7|   18.8|   59.4|   31.3|POLYGON ((2472142...|[82.3,64.7,18.8,5...|\n",
            "|0100100010106041|  76.7|   67.9|   41.2|   58.8|   17.6|POLYGON ((2472138...|[76.7,67.9,41.2,5...|\n",
            "|0100100010163017|  79.1|   49.0|   53.7|   48.1|   46.3|POLYGON ((2476783...|[79.1,49.0,53.7,4...|\n",
            "|0100100010163018|  77.1|   31.4|   48.6|   37.8|   32.4|POLYGON ((2476734...|[77.1,31.4,48.6,3...|\n",
            "|0100100010163019|  80.3|   23.6|   50.0|   41.2|   29.4|POLYGON ((2476842...|[80.3,23.6,50.0,4...|\n",
            "|0100100010163031|   0.0|    0.0|    0.0|    0.0|    0.0|POLYGON ((2476922...|           (5,[],[])|\n",
            "|0100100010182033|  56.0|   90.0|   75.0|  100.0|   50.0|POLYGON ((2463744...|[56.0,90.0,75.0,1...|\n",
            "|0100100010229011|   0.0|    0.0|    0.0|    0.0|    0.0|POLYGON ((2469545...|           (5,[],[])|\n",
            "|0100100010233015|  84.2|   60.0|   63.6|   81.8|   27.3|POLYGON ((2467768...|[84.2,60.0,63.6,8...|\n",
            "|0100100010233020|   0.0|    0.0|    0.0|    0.0|    0.0|POLYGON ((2467673...|           (5,[],[])|\n",
            "|0100100010233045|   0.0|    0.0|    0.0|    0.0|    0.0|POLYGON ((2468056...|           (5,[],[])|\n",
            "|0100100010286008|  53.5|   58.5|   77.4|   41.9|   19.4|POLYGON ((2468024...|[53.5,58.5,77.4,4...|\n",
            "|0100100010286025|  49.4|   56.5|   61.3|   25.8|   16.1|POLYGON ((2467921...|[49.4,56.5,61.3,2...|\n",
            "|0100100010290031|  72.7|   73.7|   50.0|   50.0|   50.0|POLYGON ((2468560...|[72.7,73.7,50.0,5...|\n",
            "|0100100010303002|  52.6|   32.0|   54.5|   29.5|   22.7|POLYGON ((2469190...|[52.6,32.0,54.5,2...|\n",
            "|0100100010303003|  57.2|   24.6|   47.4|   21.1|   17.5|POLYGON ((2469236...|[57.2,24.6,47.4,2...|\n",
            "+----------------+------+-------+-------+-------+-------+--------------------+--------------------+\n",
            "only showing top 20 rows\n",
            "\n"
          ]
        }
      ],
      "source": [
        "from pyspark.ml.feature import VectorAssembler\n",
        "from pyspark.ml.clustering import KMeans\n",
        "\n",
        "vecAssembler = VectorAssembler(inputCols=[\"ECO1_R\", \"EDU46_R\", \"VIV82_R\", \"VIV83_R\", \"VIV84_R\"], outputCol=\"features\")\n",
        "BD_MZA_EEVVV_CORREGIDO_VEC = vecAssembler.transform(BD_MZA_EEVVV_CORREGIDO)\n",
        "BD_MZA_EEVVV_CORREGIDO_VEC.cache()\n",
        "BD_MZA_EEVVV_CORREGIDO_VEC.show()"
      ]
    },
    {
      "cell_type": "code",
      "execution_count": 18,
      "metadata": {
        "colab": {
          "base_uri": "https://localhost:8080/"
        },
        "id": "8U_hIPZ_bZOr",
        "outputId": "46a6fa58-f1dd-4be2-c99c-69ec932c2fb8"
      },
      "outputs": [
        {
          "output_type": "stream",
          "name": "stdout",
          "text": [
            "+----------------+------+-------+-------+-------+-------+--------------------+--------------------+----------+\n",
            "|          CVEGEO|ECO1_R|EDU46_R|VIV82_R|VIV83_R|VIV84_R|            geometry|            features|prediction|\n",
            "+----------------+------+-------+-------+-------+-------+--------------------+--------------------+----------+\n",
            "|0100100010017003|  75.8|    8.5|   54.5|    9.1|    9.1|POLYGON ((2473557...|[75.8,8.5,54.5,9....|         0|\n",
            "|010010001006A012|  63.2|   94.1|   33.3|   77.8|   55.6|POLYGON ((2471329...|[63.2,94.1,33.3,7...|         4|\n",
            "|0100100010106028|  79.2|   80.0|    0.0|   70.0|    0.0|POLYGON ((2472153...|[79.2,80.0,0.0,70...|         4|\n",
            "|0100100010106034|  73.9|   57.9|   53.3|   40.0|   40.0|POLYGON ((2472128...|[73.9,57.9,53.3,4...|         3|\n",
            "|0100100010106036|  82.3|   64.7|   18.8|   59.4|   31.3|POLYGON ((2472142...|[82.3,64.7,18.8,5...|         4|\n",
            "|0100100010106041|  76.7|   67.9|   41.2|   58.8|   17.6|POLYGON ((2472138...|[76.7,67.9,41.2,5...|         4|\n",
            "|0100100010163017|  79.1|   49.0|   53.7|   48.1|   46.3|POLYGON ((2476783...|[79.1,49.0,53.7,4...|         3|\n",
            "|0100100010163018|  77.1|   31.4|   48.6|   37.8|   32.4|POLYGON ((2476734...|[77.1,31.4,48.6,3...|         3|\n",
            "|0100100010163019|  80.3|   23.6|   50.0|   41.2|   29.4|POLYGON ((2476842...|[80.3,23.6,50.0,4...|         3|\n",
            "|0100100010163031|   0.0|    0.0|    0.0|    0.0|    0.0|POLYGON ((2476922...|           (5,[],[])|         1|\n",
            "|0100100010182033|  56.0|   90.0|   75.0|  100.0|   50.0|POLYGON ((2463744...|[56.0,90.0,75.0,1...|         4|\n",
            "|0100100010229011|   0.0|    0.0|    0.0|    0.0|    0.0|POLYGON ((2469545...|           (5,[],[])|         1|\n",
            "|0100100010233015|  84.2|   60.0|   63.6|   81.8|   27.3|POLYGON ((2467768...|[84.2,60.0,63.6,8...|         4|\n",
            "|0100100010233020|   0.0|    0.0|    0.0|    0.0|    0.0|POLYGON ((2467673...|           (5,[],[])|         1|\n",
            "|0100100010233045|   0.0|    0.0|    0.0|    0.0|    0.0|POLYGON ((2468056...|           (5,[],[])|         1|\n",
            "|0100100010286008|  53.5|   58.5|   77.4|   41.9|   19.4|POLYGON ((2468024...|[53.5,58.5,77.4,4...|         3|\n",
            "|0100100010286025|  49.4|   56.5|   61.3|   25.8|   16.1|POLYGON ((2467921...|[49.4,56.5,61.3,2...|         3|\n",
            "|0100100010290031|  72.7|   73.7|   50.0|   50.0|   50.0|POLYGON ((2468560...|[72.7,73.7,50.0,5...|         4|\n",
            "|0100100010303002|  52.6|   32.0|   54.5|   29.5|   22.7|POLYGON ((2469190...|[52.6,32.0,54.5,2...|         3|\n",
            "|0100100010303003|  57.2|   24.6|   47.4|   21.1|   17.5|POLYGON ((2469236...|[57.2,24.6,47.4,2...|         0|\n",
            "+----------------+------+-------+-------+-------+-------+--------------------+--------------------+----------+\n",
            "only showing top 20 rows\n",
            "\n"
          ]
        }
      ],
      "source": [
        "kmeans = KMeans(k=5, seed=1, maxIter=250) \n",
        "model = kmeans.fit(BD_MZA_EEVVV_CORREGIDO_VEC.select('features'))\n",
        "transformed = model.transform(BD_MZA_EEVVV_CORREGIDO_VEC)\n",
        "transformed.show()"
      ]
    },
    {
      "cell_type": "code",
      "execution_count": 19,
      "metadata": {
        "colab": {
          "base_uri": "https://localhost:8080/"
        },
        "id": "qRki0SzLeR0g",
        "outputId": "f5380f65-bd62-441c-dce2-a6b6736d841b"
      },
      "outputs": [
        {
          "output_type": "stream",
          "name": "stdout",
          "text": [
            "+----------+------------------+------------------+-----------------+------------------+------------------+------+\n",
            "|prediction|  mean_econ_activa|mean_educ_superior|     mean_tv_paga|    mean_streaming|  mean_videojuegos|conteo|\n",
            "+----------+------------------+------------------+-----------------+------------------+------------------+------+\n",
            "|         1|0.2682119205298013|0.1504139072847682|              0.0| 0.138658940397351|               0.0|  2416|\n",
            "|         2| 62.73140096618356| 7.567720685111992|7.817171717171719| 2.066842336407554|1.9887571365832233|  2277|\n",
            "|         0| 63.51451104100954| 11.63544256819446|46.81521618110969|11.329374652069019|  9.34215995546482|  5389|\n",
            "|         3| 64.12663452847242|  41.5147634829769|55.10735161193131| 35.40518228382049|21.083639650497112|  3319|\n",
            "|         4| 66.60604512558534|  73.4247765006385| 61.3858663260962| 68.24312473392935| 38.85329927628778|  2349|\n",
            "+----------+------------------+------------------+-----------------+------------------+------------------+------+\n",
            "\n"
          ]
        }
      ],
      "source": [
        "transformed.createOrReplaceTempView(\"result_kmeans\")\n",
        "clusters = spark.sql(\"\"\" select prediction, \n",
        "    mean(ECO1_R) as mean_econ_activa, \n",
        "    mean(EDU46_R) as mean_educ_superior,\n",
        "    mean(VIV82_R) as mean_tv_paga,\n",
        "    mean(VIV83_R) as mean_streaming,\n",
        "    mean(VIV84_R) as mean_videojuegos,\n",
        "    count(*) as conteo\n",
        "from result_kmeans group by prediction order by mean_econ_activa\"\"\")\n",
        "\n",
        "clusters.show()"
      ]
    },
    {
      "cell_type": "code",
      "execution_count": 20,
      "metadata": {
        "id": "aW-4GNPWg4v0"
      },
      "outputs": [],
      "source": [
        "df_clusters = clusters.toPandas()"
      ]
    },
    {
      "cell_type": "code",
      "execution_count": 21,
      "metadata": {
        "colab": {
          "base_uri": "https://localhost:8080/",
          "height": 206
        },
        "id": "S7ScqcZWg8xN",
        "outputId": "7dfc818b-83fd-4cec-f481-68caae5a5977"
      },
      "outputs": [
        {
          "output_type": "execute_result",
          "data": {
            "text/plain": [
              "   prediction  mean_econ_activa  mean_educ_superior  mean_tv_paga  \\\n",
              "0           1          0.268212            0.150414      0.000000   \n",
              "1           2         62.731401            7.567721      7.817172   \n",
              "2           0         63.514511           11.635443     46.815216   \n",
              "3           3         64.126635           41.514763     55.107352   \n",
              "4           4         66.606045           73.424777     61.385866   \n",
              "\n",
              "   mean_streaming  mean_videojuegos  conteo  \n",
              "0        0.138659          0.000000    2416  \n",
              "1        2.066842          1.988757    2277  \n",
              "2       11.329375          9.342160    5389  \n",
              "3       35.405182         21.083640    3319  \n",
              "4       68.243125         38.853299    2349  "
            ],
            "text/html": [
              "\n",
              "  <div id=\"df-c9715c19-529c-41d5-a38a-245aa0831ece\">\n",
              "    <div class=\"colab-df-container\">\n",
              "      <div>\n",
              "<style scoped>\n",
              "    .dataframe tbody tr th:only-of-type {\n",
              "        vertical-align: middle;\n",
              "    }\n",
              "\n",
              "    .dataframe tbody tr th {\n",
              "        vertical-align: top;\n",
              "    }\n",
              "\n",
              "    .dataframe thead th {\n",
              "        text-align: right;\n",
              "    }\n",
              "</style>\n",
              "<table border=\"1\" class=\"dataframe\">\n",
              "  <thead>\n",
              "    <tr style=\"text-align: right;\">\n",
              "      <th></th>\n",
              "      <th>prediction</th>\n",
              "      <th>mean_econ_activa</th>\n",
              "      <th>mean_educ_superior</th>\n",
              "      <th>mean_tv_paga</th>\n",
              "      <th>mean_streaming</th>\n",
              "      <th>mean_videojuegos</th>\n",
              "      <th>conteo</th>\n",
              "    </tr>\n",
              "  </thead>\n",
              "  <tbody>\n",
              "    <tr>\n",
              "      <th>0</th>\n",
              "      <td>1</td>\n",
              "      <td>0.268212</td>\n",
              "      <td>0.150414</td>\n",
              "      <td>0.000000</td>\n",
              "      <td>0.138659</td>\n",
              "      <td>0.000000</td>\n",
              "      <td>2416</td>\n",
              "    </tr>\n",
              "    <tr>\n",
              "      <th>1</th>\n",
              "      <td>2</td>\n",
              "      <td>62.731401</td>\n",
              "      <td>7.567721</td>\n",
              "      <td>7.817172</td>\n",
              "      <td>2.066842</td>\n",
              "      <td>1.988757</td>\n",
              "      <td>2277</td>\n",
              "    </tr>\n",
              "    <tr>\n",
              "      <th>2</th>\n",
              "      <td>0</td>\n",
              "      <td>63.514511</td>\n",
              "      <td>11.635443</td>\n",
              "      <td>46.815216</td>\n",
              "      <td>11.329375</td>\n",
              "      <td>9.342160</td>\n",
              "      <td>5389</td>\n",
              "    </tr>\n",
              "    <tr>\n",
              "      <th>3</th>\n",
              "      <td>3</td>\n",
              "      <td>64.126635</td>\n",
              "      <td>41.514763</td>\n",
              "      <td>55.107352</td>\n",
              "      <td>35.405182</td>\n",
              "      <td>21.083640</td>\n",
              "      <td>3319</td>\n",
              "    </tr>\n",
              "    <tr>\n",
              "      <th>4</th>\n",
              "      <td>4</td>\n",
              "      <td>66.606045</td>\n",
              "      <td>73.424777</td>\n",
              "      <td>61.385866</td>\n",
              "      <td>68.243125</td>\n",
              "      <td>38.853299</td>\n",
              "      <td>2349</td>\n",
              "    </tr>\n",
              "  </tbody>\n",
              "</table>\n",
              "</div>\n",
              "      <button class=\"colab-df-convert\" onclick=\"convertToInteractive('df-c9715c19-529c-41d5-a38a-245aa0831ece')\"\n",
              "              title=\"Convert this dataframe to an interactive table.\"\n",
              "              style=\"display:none;\">\n",
              "        \n",
              "  <svg xmlns=\"http://www.w3.org/2000/svg\" height=\"24px\"viewBox=\"0 0 24 24\"\n",
              "       width=\"24px\">\n",
              "    <path d=\"M0 0h24v24H0V0z\" fill=\"none\"/>\n",
              "    <path d=\"M18.56 5.44l.94 2.06.94-2.06 2.06-.94-2.06-.94-.94-2.06-.94 2.06-2.06.94zm-11 1L8.5 8.5l.94-2.06 2.06-.94-2.06-.94L8.5 2.5l-.94 2.06-2.06.94zm10 10l.94 2.06.94-2.06 2.06-.94-2.06-.94-.94-2.06-.94 2.06-2.06.94z\"/><path d=\"M17.41 7.96l-1.37-1.37c-.4-.4-.92-.59-1.43-.59-.52 0-1.04.2-1.43.59L10.3 9.45l-7.72 7.72c-.78.78-.78 2.05 0 2.83L4 21.41c.39.39.9.59 1.41.59.51 0 1.02-.2 1.41-.59l7.78-7.78 2.81-2.81c.8-.78.8-2.07 0-2.86zM5.41 20L4 18.59l7.72-7.72 1.47 1.35L5.41 20z\"/>\n",
              "  </svg>\n",
              "      </button>\n",
              "      \n",
              "  <style>\n",
              "    .colab-df-container {\n",
              "      display:flex;\n",
              "      flex-wrap:wrap;\n",
              "      gap: 12px;\n",
              "    }\n",
              "\n",
              "    .colab-df-convert {\n",
              "      background-color: #E8F0FE;\n",
              "      border: none;\n",
              "      border-radius: 50%;\n",
              "      cursor: pointer;\n",
              "      display: none;\n",
              "      fill: #1967D2;\n",
              "      height: 32px;\n",
              "      padding: 0 0 0 0;\n",
              "      width: 32px;\n",
              "    }\n",
              "\n",
              "    .colab-df-convert:hover {\n",
              "      background-color: #E2EBFA;\n",
              "      box-shadow: 0px 1px 2px rgba(60, 64, 67, 0.3), 0px 1px 3px 1px rgba(60, 64, 67, 0.15);\n",
              "      fill: #174EA6;\n",
              "    }\n",
              "\n",
              "    [theme=dark] .colab-df-convert {\n",
              "      background-color: #3B4455;\n",
              "      fill: #D2E3FC;\n",
              "    }\n",
              "\n",
              "    [theme=dark] .colab-df-convert:hover {\n",
              "      background-color: #434B5C;\n",
              "      box-shadow: 0px 1px 3px 1px rgba(0, 0, 0, 0.15);\n",
              "      filter: drop-shadow(0px 1px 2px rgba(0, 0, 0, 0.3));\n",
              "      fill: #FFFFFF;\n",
              "    }\n",
              "  </style>\n",
              "\n",
              "      <script>\n",
              "        const buttonEl =\n",
              "          document.querySelector('#df-c9715c19-529c-41d5-a38a-245aa0831ece button.colab-df-convert');\n",
              "        buttonEl.style.display =\n",
              "          google.colab.kernel.accessAllowed ? 'block' : 'none';\n",
              "\n",
              "        async function convertToInteractive(key) {\n",
              "          const element = document.querySelector('#df-c9715c19-529c-41d5-a38a-245aa0831ece');\n",
              "          const dataTable =\n",
              "            await google.colab.kernel.invokeFunction('convertToInteractive',\n",
              "                                                     [key], {});\n",
              "          if (!dataTable) return;\n",
              "\n",
              "          const docLinkHtml = 'Like what you see? Visit the ' +\n",
              "            '<a target=\"_blank\" href=https://colab.research.google.com/notebooks/data_table.ipynb>data table notebook</a>'\n",
              "            + ' to learn more about interactive tables.';\n",
              "          element.innerHTML = '';\n",
              "          dataTable['output_type'] = 'display_data';\n",
              "          await google.colab.output.renderOutput(dataTable, element);\n",
              "          const docLink = document.createElement('div');\n",
              "          docLink.innerHTML = docLinkHtml;\n",
              "          element.appendChild(docLink);\n",
              "        }\n",
              "      </script>\n",
              "    </div>\n",
              "  </div>\n",
              "  "
            ]
          },
          "metadata": {},
          "execution_count": 21
        }
      ],
      "source": [
        "df_clusters"
      ]
    },
    {
      "cell_type": "code",
      "execution_count": 22,
      "metadata": {
        "id": "U12mjX-9g1e8"
      },
      "outputs": [],
      "source": [
        "import numpy as np\n",
        "import matplotlib.pyplot as plt"
      ]
    },
    {
      "cell_type": "code",
      "execution_count": 23,
      "metadata": {
        "colab": {
          "base_uri": "https://localhost:8080/",
          "height": 628
        },
        "id": "5hoAkKUlhBH5",
        "outputId": "cdfb2006-b539-4fdd-a152-441ef87d26c9"
      },
      "outputs": [
        {
          "output_type": "display_data",
          "data": {
            "text/plain": [
              "<Figure size 720x720 with 1 Axes>"
            ],
            "image/png": "[encoded data removed]"
          },
          "metadata": {
            "needs_background": "light"
          }
        }
      ],
      "source": [
        "categories = df_clusters.columns[1:-1].values\n",
        "cluster_0 = df_clusters.where(df_clusters.prediction==0).dropna().values[0][1:-1]\n",
        "cluster_1 = df_clusters.where(df_clusters.prediction==1).dropna().values[0][1:-1]\n",
        "cluster_2 = df_clusters.where(df_clusters.prediction==2).dropna().values[0][1:-1]\n",
        "cluster_3 = df_clusters.where(df_clusters.prediction==3).dropna().values[0][1:-1]\n",
        "cluster_4 = df_clusters.where(df_clusters.prediction==4).dropna().values[0][1:-1]\n",
        "\n",
        "cluster_0 = [*cluster_0,cluster_0[0]]\n",
        "cluster_1 = [*cluster_1,cluster_1[0]]\n",
        "cluster_2 = [*cluster_2,cluster_2[0]]\n",
        "cluster_3 = [*cluster_3,cluster_3[0]]\n",
        "cluster_4 = [*cluster_4,cluster_4[0]]\n",
        "\n",
        "label_loc = np.linspace(start=0, stop=2 * np.pi, num=len(cluster_0))\n",
        "\n",
        "plt.figure(figsize=(10, 10))\n",
        "plt.subplot(polar=True)\n",
        "plt.plot(label_loc, cluster_0, label='Cluster 0')\n",
        "plt.plot(label_loc, cluster_1, label='Cluster 1')\n",
        "plt.plot(label_loc, cluster_2, label='Cluster 2')\n",
        "plt.plot(label_loc, cluster_3, label='Cluster 3')\n",
        "plt.plot(label_loc, cluster_4, label='Cluster 4')\n",
        "plt.title('Comparacion de clusters', size=20)\n",
        "lines, labels = plt.thetagrids(np.degrees(label_loc), labels=categories)\n",
        "plt.legend()\n",
        "plt.show()"
      ]
    },
    {
      "cell_type": "code",
      "execution_count": null,
      "metadata": {
        "id": "7MjmckWmg17v"
      },
      "outputs": [],
      "source": [
        "#Verde = Cluster 4\n",
        "#Amarillo = Cluster 3 ; Cluster 0\n",
        "#Rojo = Cluster 1 ; Cluster 2"
      ]
    },
    {
      "cell_type": "markdown",
      "source": [
        "Visualización de Datos"
      ],
      "metadata": {
        "id": "cYZU9KoY71Ui"
      }
    },
    {
      "cell_type": "code",
      "execution_count": 24,
      "metadata": {
        "id": "e-vSoxWZuxCg"
      },
      "outputs": [],
      "source": [
        "df_manzanas = spark.sql(\"\"\"select ECO1_R as eco_act,\n",
        "                                  EDU46_R as edu_sup,\n",
        "                                  VIV82_R as tv_paga,\n",
        "                                  VIV83_R as stream,\n",
        "                                  VIV84_R as videoj,\n",
        "                                  geometry,\n",
        "                                  prediction \n",
        "                           from result_kmeans\"\"\").toPandas()\n",
        "geopandas_df_grid = gpd.GeoDataFrame(df_manzanas, geometry=\"geometry\")\n",
        "geopandas_df_grid = geopandas_df_grid.set_crs('PROJCS[\"Mexico_ITRF2008_LCC\",GEOGCS[\"Mexico_ITRF2008\",DATUM[\"Mexico_ITRF2008\",SPHEROID[\"GRS_1980\",6378137,298.257222101],TOWGS84[0,0,0,0,0,0,0]],PRIMEM[\"Greenwich\",0],UNIT[\"Degree\",0.0174532925199433]],PROJECTION[\"Lambert_Conformal_Conic_2SP\",AUTHORITY[\"EPSG\",\"9802\"]],PARAMETER[\"Central_Meridian\",-102],PARAMETER[\"Latitude_Of_Origin\",12],PARAMETER[\"False_Easting\",2500000],PARAMETER[\"False_Northing\",0],PARAMETER[\"Standard_Parallel_1\",17.5],PARAMETER[\"Standard_Parallel_2\",29.5],PARAMETER[\"Scale_Factor\",1],UNIT[\"Meter\",1,AUTHORITY[\"EPSG\",\"9001\"]],AUTHORITY[\"EPSG\",\"6372\"]]')\n",
        "geopandas_df_grid = geopandas_df_grid.to_crs(\"EPSG:4326\")\n",
        "#geopandas_df_grid.to_file(\"/content/drive/MyDrive/GeoBigDataNube2022/resultados/manzanas_kmeans.shp\")"
      ]
    },
    {
      "cell_type": "code",
      "execution_count": 25,
      "metadata": {
        "id": "zlScRAQ7lRxO"
      },
      "outputs": [],
      "source": [
        "import folium"
      ]
    },
    {
      "cell_type": "code",
      "source": [
        "def rank_colormap(gdf):\n",
        "  if gdf['properties']['prediction'] is 4:\n",
        "    return 'green'\n",
        "  if gdf['properties']['prediction'] is 3 or 0:\n",
        "    return 'yellow'\n",
        "  if gdf['properties']['prediction'] is 1 or 2:\n",
        "    return 'red'"
      ],
      "metadata": {
        "id": "ecYa8bTLuCkU"
      },
      "execution_count": 26,
      "outputs": []
    },
    {
      "cell_type": "code",
      "source": [
        "m = folium.Map(location=[21.8852562,-102.2915677], zoom_start=14)\n",
        "\n",
        "folium.GeoJson(data = geopandas_df_grid, name=\"Estratos\",style_function = lambda feature: {\n",
        "   'fillColor': rank_colormap(feature),\n",
        "   'color': rank_colormap(feature),\n",
        "   'weight': '0.5',\n",
        "   'fill': True,\n",
        "   'fill_opacity': '1'\n",
        "}).add_to(m)"
      ],
      "metadata": {
        "colab": {
          "base_uri": "https://localhost:8080/"
        },
        "id": "OOHGwlAszDvO",
        "outputId": "00a77bea-6f00-419b-8c72-c586018f779d"
      },
      "execution_count": 27,
      "outputs": [
        {
          "output_type": "execute_result",
          "data": {
            "text/plain": [
              "<folium.features.GeoJson at 0x7f7a652e0110>"
            ]
          },
          "metadata": {},
          "execution_count": 27
        }
      ]
    },
    {
      "cell_type": "code",
      "execution_count": null,
      "metadata": {
        "id": "YBj4By6hF-UK"
      },
      "outputs": [],
      "source": [
        "# Despliegue del Mapa\n",
        "m"
      ]
    },
    {
      "cell_type": "markdown",
      "source": [
        "Mapa de Densidad de Farmacias"
      ],
      "metadata": {
        "id": "y39tOaksCQah"
      }
    },
    {
      "cell_type": "code",
      "execution_count": 29,
      "metadata": {
        "id": "WV9eziSrKNMv",
        "colab": {
          "base_uri": "https://localhost:8080/"
        },
        "outputId": "f3116fdc-752c-4749-cf78-8a987f998842"
      },
      "outputs": [
        {
          "output_type": "execute_result",
          "data": {
            "text/plain": [
              "61645"
            ]
          },
          "metadata": {},
          "execution_count": 29
        }
      ],
      "source": [
        "BD_DENUE = spark.read.parquet(f\"/content/DENUE_Parquets/01.parquet\")\n",
        "BD_DENUE.createOrReplaceTempView(\"denue\")\n",
        "BD_DENUE.cache()\n",
        "BD_DENUE.count()"
      ]
    },
    {
      "cell_type": "code",
      "execution_count": 30,
      "metadata": {
        "id": "NPV2WeDiKaHd"
      },
      "outputs": [],
      "source": [
        "Influencia_Farmacias = spark.sql(\"\"\"select \n",
        "                                  CVEGEO,\n",
        "                                  ECO1_R as eco_act,\n",
        "                                  EDU46_R as edu_sup,\n",
        "                                  VIV82_R as tv_paga,\n",
        "                                  VIV83_R as stream,\n",
        "                                  VIV84_R as videoj,\n",
        "                                  result_kmeans.geometry,\n",
        "                                  prediction,\n",
        "                                  count(*) as n_farma\n",
        "                           from result_kmeans,\n",
        "                                denue\n",
        "                            where denue.codigo_act in ('464111','464112') and\n",
        "                                  ST_Intersects(result_kmeans.geometry , ST_Buffer(denue.geometry,1500)) \n",
        "                            group by CVEGEO, eco_act,edu_sup,tv_paga,stream,videoj,result_kmeans.geometry,prediction \"\"\").toPandas()\n",
        "\n",
        "Influencia_Farmacias_SHP = gpd.GeoDataFrame(Influencia_Farmacias, geometry=\"geometry\")\n",
        "Influencia_Farmacias_SHP = Influencia_Farmacias_SHP.set_crs('PROJCS[\"Mexico_ITRF2008_LCC\",GEOGCS[\"Mexico_ITRF2008\",DATUM[\"Mexico_ITRF2008\",SPHEROID[\"GRS_1980\",6378137,298.257222101],TOWGS84[0,0,0,0,0,0,0]],PRIMEM[\"Greenwich\",0],UNIT[\"Degree\",0.0174532925199433]],PROJECTION[\"Lambert_Conformal_Conic_2SP\",AUTHORITY[\"EPSG\",\"9802\"]],PARAMETER[\"Central_Meridian\",-102],PARAMETER[\"Latitude_Of_Origin\",12],PARAMETER[\"False_Easting\",2500000],PARAMETER[\"False_Northing\",0],PARAMETER[\"Standard_Parallel_1\",17.5],PARAMETER[\"Standard_Parallel_2\",29.5],PARAMETER[\"Scale_Factor\",1],UNIT[\"Meter\",1,AUTHORITY[\"EPSG\",\"9001\"]],AUTHORITY[\"EPSG\",\"6372\"]]')\n",
        "Influencia_Farmacias_SHP = Influencia_Farmacias_SHP.to_crs(\"EPSG:4326\")\n",
        "#Influencia_Farmacias_SHP.to_file(f\"/content/drive/MyDrive/GeoBigDataNube2022/resultados/manzanas_kmeans_farmacias.shp\")"
      ]
    },
    {
      "cell_type": "code",
      "source": [
        "Influencia_Farmacias_SHP"
      ],
      "metadata": {
        "colab": {
          "base_uri": "https://localhost:8080/",
          "height": 641
        },
        "id": "L2BVj_UGU2j9",
        "outputId": "68d8ba06-cc28-4cf6-fa6d-384ecd24a925"
      },
      "execution_count": 31,
      "outputs": [
        {
          "output_type": "execute_result",
          "data": {
            "text/plain": [
              "                 CVEGEO  eco_act  edu_sup  tv_paga  stream  videoj  \\\n",
              "0      0100100012687023     59.8     40.7     47.3    34.5    43.6   \n",
              "1      0100100010962008     59.6     16.8     29.7    17.2    10.9   \n",
              "2      010010001209A014     50.0     45.0     66.7     0.0     0.0   \n",
              "3      010010001209A011     54.9     52.3     66.7    38.9    27.8   \n",
              "4      0100100010905016     68.2     11.5     50.0    21.1    26.3   \n",
              "...                 ...      ...      ...      ...     ...     ...   \n",
              "14640  0100100011034050     71.9      5.4     37.0     5.6     7.4   \n",
              "14641  0100100011034043     72.4      0.0     25.0    25.0     0.0   \n",
              "14642  0101100010140005     56.8      0.0     50.0     0.0     0.0   \n",
              "14643  0100104792742047     50.0      0.0      0.0     0.0     0.0   \n",
              "14644  0100100014217015     70.2      0.0     13.6     0.0     0.0   \n",
              "\n",
              "                                                geometry  prediction  n_farma  \n",
              "0      POLYGON ((-102.27561 21.85556, -102.27561 21.8...           3       19  \n",
              "1      POLYGON ((-102.28101 21.85997, -102.28098 21.8...           0       22  \n",
              "2      POLYGON ((-102.29006 21.86405, -102.28993 21.8...           0       37  \n",
              "3      POLYGON ((-102.29207 21.86544, -102.29184 21.8...           3       40  \n",
              "4      POLYGON ((-102.27894 21.87054, -102.27892 21.8...           0       30  \n",
              "...                                                  ...         ...      ...  \n",
              "14640  POLYGON ((-102.26710 21.81234, -102.26715 21.8...           0        2  \n",
              "14641  POLYGON ((-102.26668 21.81053, -102.26713 21.8...           0        2  \n",
              "14642  POLYGON ((-102.26215 22.06117, -102.26247 22.0...           0        3  \n",
              "14643  POLYGON ((-102.18839 21.82318, -102.18809 21.8...           2        3  \n",
              "14644  POLYGON ((-102.24338 21.94038, -102.24366 21.9...           2        1  \n",
              "\n",
              "[14645 rows x 9 columns]"
            ],
            "text/html": [
              "\n",
              "  <div id=\"df-e3d18523-31ae-41ae-8ced-8e6256f5b92c\">\n",
              "    <div class=\"colab-df-container\">\n",
              "      <div>\n",
              "<style scoped>\n",
              "    .dataframe tbody tr th:only-of-type {\n",
              "        vertical-align: middle;\n",
              "    }\n",
              "\n",
              "    .dataframe tbody tr th {\n",
              "        vertical-align: top;\n",
              "    }\n",
              "\n",
              "    .dataframe thead th {\n",
              "        text-align: right;\n",
              "    }\n",
              "</style>\n",
              "<table border=\"1\" class=\"dataframe\">\n",
              "  <thead>\n",
              "    <tr style=\"text-align: right;\">\n",
              "      <th></th>\n",
              "      <th>CVEGEO</th>\n",
              "      <th>eco_act</th>\n",
              "      <th>edu_sup</th>\n",
              "      <th>tv_paga</th>\n",
              "      <th>stream</th>\n",
              "      <th>videoj</th>\n",
              "      <th>geometry</th>\n",
              "      <th>prediction</th>\n",
              "      <th>n_farma</th>\n",
              "    </tr>\n",
              "  </thead>\n",
              "  <tbody>\n",
              "    <tr>\n",
              "      <th>0</th>\n",
              "      <td>0100100012687023</td>\n",
              "      <td>59.8</td>\n",
              "      <td>40.7</td>\n",
              "      <td>47.3</td>\n",
              "      <td>34.5</td>\n",
              "      <td>43.6</td>\n",
              "      <td>POLYGON ((-102.27561 21.85556, -102.27561 21.8...</td>\n",
              "      <td>3</td>\n",
              "      <td>19</td>\n",
              "    </tr>\n",
              "    <tr>\n",
              "      <th>1</th>\n",
              "      <td>0100100010962008</td>\n",
              "      <td>59.6</td>\n",
              "      <td>16.8</td>\n",
              "      <td>29.7</td>\n",
              "      <td>17.2</td>\n",
              "      <td>10.9</td>\n",
              "      <td>POLYGON ((-102.28101 21.85997, -102.28098 21.8...</td>\n",
              "      <td>0</td>\n",
              "      <td>22</td>\n",
              "    </tr>\n",
              "    <tr>\n",
              "      <th>2</th>\n",
              "      <td>010010001209A014</td>\n",
              "      <td>50.0</td>\n",
              "      <td>45.0</td>\n",
              "      <td>66.7</td>\n",
              "      <td>0.0</td>\n",
              "      <td>0.0</td>\n",
              "      <td>POLYGON ((-102.29006 21.86405, -102.28993 21.8...</td>\n",
              "      <td>0</td>\n",
              "      <td>37</td>\n",
              "    </tr>\n",
              "    <tr>\n",
              "      <th>3</th>\n",
              "      <td>010010001209A011</td>\n",
              "      <td>54.9</td>\n",
              "      <td>52.3</td>\n",
              "      <td>66.7</td>\n",
              "      <td>38.9</td>\n",
              "      <td>27.8</td>\n",
              "      <td>POLYGON ((-102.29207 21.86544, -102.29184 21.8...</td>\n",
              "      <td>3</td>\n",
              "      <td>40</td>\n",
              "    </tr>\n",
              "    <tr>\n",
              "      <th>4</th>\n",
              "      <td>0100100010905016</td>\n",
              "      <td>68.2</td>\n",
              "      <td>11.5</td>\n",
              "      <td>50.0</td>\n",
              "      <td>21.1</td>\n",
              "      <td>26.3</td>\n",
              "      <td>POLYGON ((-102.27894 21.87054, -102.27892 21.8...</td>\n",
              "      <td>0</td>\n",
              "      <td>30</td>\n",
              "    </tr>\n",
              "    <tr>\n",
              "      <th>...</th>\n",
              "      <td>...</td>\n",
              "      <td>...</td>\n",
              "      <td>...</td>\n",
              "      <td>...</td>\n",
              "      <td>...</td>\n",
              "      <td>...</td>\n",
              "      <td>...</td>\n",
              "      <td>...</td>\n",
              "      <td>...</td>\n",
              "    </tr>\n",
              "    <tr>\n",
              "      <th>14640</th>\n",
              "      <td>0100100011034050</td>\n",
              "      <td>71.9</td>\n",
              "      <td>5.4</td>\n",
              "      <td>37.0</td>\n",
              "      <td>5.6</td>\n",
              "      <td>7.4</td>\n",
              "      <td>POLYGON ((-102.26710 21.81234, -102.26715 21.8...</td>\n",
              "      <td>0</td>\n",
              "      <td>2</td>\n",
              "    </tr>\n",
              "    <tr>\n",
              "      <th>14641</th>\n",
              "      <td>0100100011034043</td>\n",
              "      <td>72.4</td>\n",
              "      <td>0.0</td>\n",
              "      <td>25.0</td>\n",
              "      <td>25.0</td>\n",
              "      <td>0.0</td>\n",
              "      <td>POLYGON ((-102.26668 21.81053, -102.26713 21.8...</td>\n",
              "      <td>0</td>\n",
              "      <td>2</td>\n",
              "    </tr>\n",
              "    <tr>\n",
              "      <th>14642</th>\n",
              "      <td>0101100010140005</td>\n",
              "      <td>56.8</td>\n",
              "      <td>0.0</td>\n",
              "      <td>50.0</td>\n",
              "      <td>0.0</td>\n",
              "      <td>0.0</td>\n",
              "      <td>POLYGON ((-102.26215 22.06117, -102.26247 22.0...</td>\n",
              "      <td>0</td>\n",
              "      <td>3</td>\n",
              "    </tr>\n",
              "    <tr>\n",
              "      <th>14643</th>\n",
              "      <td>0100104792742047</td>\n",
              "      <td>50.0</td>\n",
              "      <td>0.0</td>\n",
              "      <td>0.0</td>\n",
              "      <td>0.0</td>\n",
              "      <td>0.0</td>\n",
              "      <td>POLYGON ((-102.18839 21.82318, -102.18809 21.8...</td>\n",
              "      <td>2</td>\n",
              "      <td>3</td>\n",
              "    </tr>\n",
              "    <tr>\n",
              "      <th>14644</th>\n",
              "      <td>0100100014217015</td>\n",
              "      <td>70.2</td>\n",
              "      <td>0.0</td>\n",
              "      <td>13.6</td>\n",
              "      <td>0.0</td>\n",
              "      <td>0.0</td>\n",
              "      <td>POLYGON ((-102.24338 21.94038, -102.24366 21.9...</td>\n",
              "      <td>2</td>\n",
              "      <td>1</td>\n",
              "    </tr>\n",
              "  </tbody>\n",
              "</table>\n",
              "<p>14645 rows × 9 columns</p>\n",
              "</div>\n",
              "      <button class=\"colab-df-convert\" onclick=\"convertToInteractive('df-e3d18523-31ae-41ae-8ced-8e6256f5b92c')\"\n",
              "              title=\"Convert this dataframe to an interactive table.\"\n",
              "              style=\"display:none;\">\n",
              "        \n",
              "  <svg xmlns=\"http://www.w3.org/2000/svg\" height=\"24px\"viewBox=\"0 0 24 24\"\n",
              "       width=\"24px\">\n",
              "    <path d=\"M0 0h24v24H0V0z\" fill=\"none\"/>\n",
              "    <path d=\"M18.56 5.44l.94 2.06.94-2.06 2.06-.94-2.06-.94-.94-2.06-.94 2.06-2.06.94zm-11 1L8.5 8.5l.94-2.06 2.06-.94-2.06-.94L8.5 2.5l-.94 2.06-2.06.94zm10 10l.94 2.06.94-2.06 2.06-.94-2.06-.94-.94-2.06-.94 2.06-2.06.94z\"/><path d=\"M17.41 7.96l-1.37-1.37c-.4-.4-.92-.59-1.43-.59-.52 0-1.04.2-1.43.59L10.3 9.45l-7.72 7.72c-.78.78-.78 2.05 0 2.83L4 21.41c.39.39.9.59 1.41.59.51 0 1.02-.2 1.41-.59l7.78-7.78 2.81-2.81c.8-.78.8-2.07 0-2.86zM5.41 20L4 18.59l7.72-7.72 1.47 1.35L5.41 20z\"/>\n",
              "  </svg>\n",
              "      </button>\n",
              "      \n",
              "  <style>\n",
              "    .colab-df-container {\n",
              "      display:flex;\n",
              "      flex-wrap:wrap;\n",
              "      gap: 12px;\n",
              "    }\n",
              "\n",
              "    .colab-df-convert {\n",
              "      background-color: #E8F0FE;\n",
              "      border: none;\n",
              "      border-radius: 50%;\n",
              "      cursor: pointer;\n",
              "      display: none;\n",
              "      fill: #1967D2;\n",
              "      height: 32px;\n",
              "      padding: 0 0 0 0;\n",
              "      width: 32px;\n",
              "    }\n",
              "\n",
              "    .colab-df-convert:hover {\n",
              "      background-color: #E2EBFA;\n",
              "      box-shadow: 0px 1px 2px rgba(60, 64, 67, 0.3), 0px 1px 3px 1px rgba(60, 64, 67, 0.15);\n",
              "      fill: #174EA6;\n",
              "    }\n",
              "\n",
              "    [theme=dark] .colab-df-convert {\n",
              "      background-color: #3B4455;\n",
              "      fill: #D2E3FC;\n",
              "    }\n",
              "\n",
              "    [theme=dark] .colab-df-convert:hover {\n",
              "      background-color: #434B5C;\n",
              "      box-shadow: 0px 1px 3px 1px rgba(0, 0, 0, 0.15);\n",
              "      filter: drop-shadow(0px 1px 2px rgba(0, 0, 0, 0.3));\n",
              "      fill: #FFFFFF;\n",
              "    }\n",
              "  </style>\n",
              "\n",
              "      <script>\n",
              "        const buttonEl =\n",
              "          document.querySelector('#df-e3d18523-31ae-41ae-8ced-8e6256f5b92c button.colab-df-convert');\n",
              "        buttonEl.style.display =\n",
              "          google.colab.kernel.accessAllowed ? 'block' : 'none';\n",
              "\n",
              "        async function convertToInteractive(key) {\n",
              "          const element = document.querySelector('#df-e3d18523-31ae-41ae-8ced-8e6256f5b92c');\n",
              "          const dataTable =\n",
              "            await google.colab.kernel.invokeFunction('convertToInteractive',\n",
              "                                                     [key], {});\n",
              "          if (!dataTable) return;\n",
              "\n",
              "          const docLinkHtml = 'Like what you see? Visit the ' +\n",
              "            '<a target=\"_blank\" href=https://colab.research.google.com/notebooks/data_table.ipynb>data table notebook</a>'\n",
              "            + ' to learn more about interactive tables.';\n",
              "          element.innerHTML = '';\n",
              "          dataTable['output_type'] = 'display_data';\n",
              "          await google.colab.output.renderOutput(dataTable, element);\n",
              "          const docLink = document.createElement('div');\n",
              "          docLink.innerHTML = docLinkHtml;\n",
              "          element.appendChild(docLink);\n",
              "        }\n",
              "      </script>\n",
              "    </div>\n",
              "  </div>\n",
              "  "
            ]
          },
          "metadata": {},
          "execution_count": 31
        }
      ]
    },
    {
      "cell_type": "code",
      "source": [
        "m2 = folium.Map(location=[21.8852562,-102.2915677], zoom_start=13)"
      ],
      "metadata": {
        "id": "1XS6bypKWHJE"
      },
      "execution_count": 32,
      "outputs": []
    },
    {
      "cell_type": "code",
      "source": [
        "folium.Choropleth(\n",
        "    geo_data=Influencia_Farmacias_SHP.to_json(drop_id=True),\n",
        "    name=\"Farmacias\",\n",
        "    data=Influencia_Farmacias_SHP,\n",
        "    columns=[\"CVEGEO\", \"n_farma\"],\n",
        "    key_on=\"feature.properties.CVEGEO\",\n",
        "    fill_color=\"Spectral\",\n",
        "    fill_opacity=0.7,\n",
        "    line_opacity=0.2,\n",
        "    legend_name=\"Farmacias\",\n",
        ").add_to(m2)\n"
      ],
      "metadata": {
        "id": "Lq-O_utg5VLg",
        "colab": {
          "base_uri": "https://localhost:8080/"
        },
        "outputId": "9e037aca-4d7d-450d-c652-eb334bff57d9"
      },
      "execution_count": 33,
      "outputs": [
        {
          "output_type": "execute_result",
          "data": {
            "text/plain": [
              "<folium.features.Choropleth at 0x7f7a5be86f50>"
            ]
          },
          "metadata": {},
          "execution_count": 33
        }
      ]
    },
    {
      "cell_type": "code",
      "source": [
        "# Display the Choropleth\n",
        "m2"
      ],
      "metadata": {
        "id": "fLVaOjt8VwF5"
      },
      "execution_count": null,
      "outputs": []
    },
    {
      "cell_type": "markdown",
      "source": [
        "FIN."
      ],
      "metadata": {
        "id": "Ont_Pho9YRHV"
      }
    }
  ],
  "metadata": {
    "colab": {
      "collapsed_sections": [],
      "provenance": [],
      "mount_file_id": "1H_2S_RnX_Zjv2f7ybWR4rRNC6XXhGRlD",
      "authorship_tag": "ABX9TyMKi9dIaICI3pavdOYi2HWm",
      "include_colab_link": true
    },
    "kernelspec": {
      "display_name": "Python 3",
      "name": "python3"
    },
    "language_info": {
      "name": "python"
    }
  },
  "nbformat": 4,
  "nbformat_minor": 0
}